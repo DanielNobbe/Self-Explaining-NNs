{
 "cells": [
  {
   "cell_type": "markdown",
   "metadata": {},
   "source": [
    "# Revisiting Robust Interpretability of Self-Explaining Neural Networks\n",
    "In this notebook, all results in the paper \"Revisiting Robust Interpretability of Self-Explaining Neural Networks\" by J. Goedhart, L. Jansen, H. Lim, and D. Nobbe, can be generated. Please read through the functionality of all cells before running."
   ]
  },
  {
   "cell_type": "markdown",
   "metadata": {},
   "source": [
    "# Training\n",
    "The following three cells should be run for training of the models. Pre-trained models are included in the Github repository, so it is not necessary to train the models to generate the figures.\n",
    "Note that training the models will reinitialize the weights, therefore slightly changing the figures generated."
   ]
  },
  {
   "cell_type": "code",
   "execution_count": 42,
   "metadata": {},
   "outputs": [
    {
     "name": "stdout",
     "output_type": "stream",
     "text": [
      "/home/daniel/anaconda3/envs/FACT3/lib/python3.6/site-packages/sklearn/externals/joblib/externals/cloudpickle/cloudpickle.py:47: DeprecationWarning: the imp module is deprecated in favour of importlib; see the module's documentation for alternative uses\n",
      "  import imp\n",
      "\n",
      "Parameters:\n",
      "\tBATCH_SIZE=128\n",
      "\tCONCEPT_DIM=1\n",
      "\tCUDA=False\n",
      "\tDATASET=pathology\n",
      "\tDATASETS=['heart', 'ionosphere', 'breast-cancer', 'wine', 'heart', 'glass', 'diabetes', 'yeast', 'leukemia', 'abalone']\n",
      "\tDEBUG=False\n",
      "\tDEMO=False\n",
      "\tDROPOUT=0.1\n",
      "\tEMBEDDING=pathology\n",
      "\tEPOCHS=10\n",
      "\tH_SPARSITY=0.0001\n",
      "\tH_TYPE=cnn\n",
      "\tLIP_CALLS=10\n",
      "\tLIP_EPS=0.01\n",
      "\tLIP_POINTS=100\n",
      "\tLISA=0\n",
      "\tLOAD_MODEL=False\n",
      "\tLOG_PATH=log\n",
      "\tLR=0.001\n",
      "\tMODEL_PATH=models\n",
      "\tNCLASSES=2\n",
      "\tNCONCEPTS=5\n",
      "\tNOBIAS=False\n",
      "\tNOPLOT=False\n",
      "\tNUM_GPUS=1\n",
      "\tNUM_WORKERS=4\n",
      "\tOBJECTIVE=cross_entropy\n",
      "\tOPT=adam\n",
      "\tOPTIM=gp\n",
      "\tPOSITIVE_THETA=False\n",
      "\tPRINT_FREQ=10\n",
      "\tRESULTS_PATH=out\n",
      "\tSEED=2018\n",
      "\tSUMMARY_PATH=results/summary.csv\n",
      "\tTEST=False\n",
      "\tTHETA_ARCH=simple\n",
      "\tTHETA_DIM=-1\n",
      "\tTHETA_REG_LAMBDA=0.01\n",
      "\tTHETA_REG_TYPE=grad3\n",
      "\tTRAIN=True\n",
      "\tWEIGHT_DECAY=0.001\n",
      "Epoch: [0][0/422]  Time 1.25 (1.25)  Loss 3.2883 (3.2883)  Prec@1 9.375 (9.375)  Prec@5 47.656 (47.656)\n",
      "^C\n",
      "Process Process-2:\n",
      "Process Process-4:\n",
      "Process Process-1:\n",
      "Process Process-3:\n",
      "Traceback (most recent call last):\n",
      "Traceback (most recent call last):\n",
      "Traceback (most recent call last):\n",
      "  File \"/home/daniel/anaconda3/envs/FACT3/lib/python3.6/multiprocessing/process.py\", line 258, in _bootstrap\n",
      "    self.run()\n",
      "  File \"/home/daniel/anaconda3/envs/FACT3/lib/python3.6/multiprocessing/process.py\", line 93, in run\n",
      "    self._target(*self._args, **self._kwargs)\n",
      "  File \"/home/daniel/anaconda3/envs/FACT3/lib/python3.6/multiprocessing/process.py\", line 258, in _bootstrap\n",
      "    self.run()\n",
      "  File \"/home/daniel/anaconda3/envs/FACT3/lib/python3.6/site-packages/torch/utils/data/dataloader.py\", line 96, in _worker_loop\n",
      "    r = index_queue.get(timeout=MANAGER_STATUS_CHECK_INTERVAL)\n",
      "  File \"/home/daniel/anaconda3/envs/FACT3/lib/python3.6/multiprocessing/process.py\", line 93, in run\n",
      "    self._target(*self._args, **self._kwargs)\n",
      "  File \"/home/daniel/anaconda3/envs/FACT3/lib/python3.6/multiprocessing/process.py\", line 258, in _bootstrap\n",
      "    self.run()\n",
      "  File \"/home/daniel/anaconda3/envs/FACT3/lib/python3.6/multiprocessing/queues.py\", line 104, in get\n",
      "    if not self._poll(timeout):\n",
      "  File \"/home/daniel/anaconda3/envs/FACT3/lib/python3.6/site-packages/torch/utils/data/dataloader.py\", line 96, in _worker_loop\n",
      "    r = index_queue.get(timeout=MANAGER_STATUS_CHECK_INTERVAL)\n",
      "  File \"/home/daniel/anaconda3/envs/FACT3/lib/python3.6/multiprocessing/process.py\", line 93, in run\n",
      "    self._target(*self._args, **self._kwargs)\n",
      "  File \"/home/daniel/anaconda3/envs/FACT3/lib/python3.6/multiprocessing/connection.py\", line 257, in poll\n",
      "    return self._poll(timeout)\n",
      "  File \"/home/daniel/anaconda3/envs/FACT3/lib/python3.6/multiprocessing/queues.py\", line 104, in get\n",
      "    if not self._poll(timeout):\n",
      "  File \"/home/daniel/anaconda3/envs/FACT3/lib/python3.6/site-packages/torch/utils/data/dataloader.py\", line 96, in _worker_loop\n",
      "    r = index_queue.get(timeout=MANAGER_STATUS_CHECK_INTERVAL)\n",
      "  File \"/home/daniel/anaconda3/envs/FACT3/lib/python3.6/multiprocessing/connection.py\", line 414, in _poll\n",
      "    r = wait([self], timeout)\n",
      "  File \"/home/daniel/anaconda3/envs/FACT3/lib/python3.6/multiprocessing/connection.py\", line 257, in poll\n",
      "    return self._poll(timeout)\n",
      "  File \"/home/daniel/anaconda3/envs/FACT3/lib/python3.6/multiprocessing/queues.py\", line 104, in get\n",
      "    if not self._poll(timeout):\n",
      "  File \"/home/daniel/anaconda3/envs/FACT3/lib/python3.6/multiprocessing/connection.py\", line 911, in wait\n",
      "    ready = selector.select(timeout)\n",
      "  File \"/home/daniel/anaconda3/envs/FACT3/lib/python3.6/multiprocessing/connection.py\", line 414, in _poll\n",
      "    r = wait([self], timeout)\n",
      "  File \"/home/daniel/anaconda3/envs/FACT3/lib/python3.6/multiprocessing/connection.py\", line 257, in poll\n",
      "    return self._poll(timeout)\n",
      "  File \"/home/daniel/anaconda3/envs/FACT3/lib/python3.6/selectors.py\", line 376, in select\n",
      "    fd_event_list = self._poll.poll(timeout)\n",
      "  File \"/home/daniel/anaconda3/envs/FACT3/lib/python3.6/multiprocessing/connection.py\", line 911, in wait\n",
      "    ready = selector.select(timeout)\n",
      "  File \"/home/daniel/anaconda3/envs/FACT3/lib/python3.6/multiprocessing/connection.py\", line 414, in _poll\n",
      "    r = wait([self], timeout)\n",
      "  File \"/home/daniel/anaconda3/envs/FACT3/lib/python3.6/selectors.py\", line 376, in select\n",
      "    fd_event_list = self._poll.poll(timeout)\n",
      "  File \"/home/daniel/anaconda3/envs/FACT3/lib/python3.6/multiprocessing/connection.py\", line 911, in wait\n",
      "    ready = selector.select(timeout)\n",
      "  File \"/home/daniel/anaconda3/envs/FACT3/lib/python3.6/selectors.py\", line 376, in select\n",
      "    fd_event_list = self._poll.poll(timeout)\n",
      "KeyboardInterrupt\n",
      "KeyboardInterrupt\n",
      "KeyboardInterrupt\n",
      "Traceback (most recent call last):\n",
      "  File \"/home/daniel/anaconda3/envs/FACT3/lib/python3.6/multiprocessing/process.py\", line 258, in _bootstrap\n",
      "    self.run()\n",
      "  File \"/home/daniel/anaconda3/envs/FACT3/lib/python3.6/multiprocessing/process.py\", line 93, in run\n",
      "    self._target(*self._args, **self._kwargs)\n",
      "  File \"/home/daniel/anaconda3/envs/FACT3/lib/python3.6/site-packages/torch/utils/data/dataloader.py\", line 96, in _worker_loop\n",
      "    r = index_queue.get(timeout=MANAGER_STATUS_CHECK_INTERVAL)\n",
      "  File \"/home/daniel/anaconda3/envs/FACT3/lib/python3.6/multiprocessing/queues.py\", line 104, in get\n",
      "    if not self._poll(timeout):\n",
      "  File \"/home/daniel/anaconda3/envs/FACT3/lib/python3.6/multiprocessing/connection.py\", line 257, in poll\n",
      "    return self._poll(timeout)\n",
      "  File \"/home/daniel/anaconda3/envs/FACT3/lib/python3.6/multiprocessing/connection.py\", line 414, in _poll\n",
      "    r = wait([self], timeout)\n",
      "  File \"/home/daniel/anaconda3/envs/FACT3/lib/python3.6/multiprocessing/connection.py\", line 911, in wait\n",
      "    ready = selector.select(timeout)\n",
      "  File \"/home/daniel/anaconda3/envs/FACT3/lib/python3.6/selectors.py\", line 376, in select\n",
      "    fd_event_list = self._poll.poll(timeout)\n",
      "KeyboardInterrupt\n",
      "Exception ignored in: <bound method _DataLoaderIter.__del__ of <torch.utils.data.dataloader._DataLoaderIter object at 0x7f0f330cb710>>\n",
      "Traceback (most recent call last):\n",
      "  File \"/home/daniel/anaconda3/envs/FACT3/lib/python3.6/site-packages/torch/utils/data/dataloader.py\", line 399, in __del__\n",
      "    self._shutdown_workers()\n",
      "  File \"/home/daniel/anaconda3/envs/FACT3/lib/python3.6/site-packages/torch/utils/data/dataloader.py\", line 378, in _shutdown_workers\n",
      "    self.worker_result_queue.get()\n",
      "  File \"/home/daniel/anaconda3/envs/FACT3/lib/python3.6/multiprocessing/queues.py\", line 337, in get\n",
      "    return _ForkingPickler.loads(res)\n",
      "  File \"/home/daniel/anaconda3/envs/FACT3/lib/python3.6/site-packages/torch/multiprocessing/reductions.py\", line 151, in rebuild_storage_fd\n",
      "    fd = df.detach()\n",
      "  File \"/home/daniel/anaconda3/envs/FACT3/lib/python3.6/multiprocessing/resource_sharer.py\", line 57, in detach\n",
      "    with _resource_sharer.get_connection(self._id) as conn:\n",
      "  File \"/home/daniel/anaconda3/envs/FACT3/lib/python3.6/multiprocessing/resource_sharer.py\", line 87, in get_connection\n",
      "    c = Client(address, authkey=process.current_process().authkey)\n",
      "  File \"/home/daniel/anaconda3/envs/FACT3/lib/python3.6/multiprocessing/connection.py\", line 487, in Client\n",
      "    c = SocketClient(address)\n",
      "  File \"/home/daniel/anaconda3/envs/FACT3/lib/python3.6/multiprocessing/connection.py\", line 612, in SocketClient\n",
      "    with socket.socket( getattr(socket, family) ) as s:\n",
      "  File \"/home/daniel/anaconda3/envs/FACT3/lib/python3.6/socket.py\", line 144, in __init__\n",
      "    _socket.socket.__init__(self, family, type, proto, fileno)\n",
      "  File \"/home/daniel/anaconda3/envs/FACT3/lib/python3.6/site-packages/torch/utils/data/dataloader.py\", line 227, in handler\n",
      "    _error_if_any_worker_fails()\n",
      "RuntimeError: DataLoader worker (pid 26748) exited unexpectedly with exit code 1. Details are lost due to multiprocessing. Rerunning with num_workers=0 may give better error trace.\n",
      "Traceback (most recent call last):\n",
      "  File \"scripts/main_mnist.py\", line 498, in <module>\n",
      "    main()\n",
      "  File \"scripts/main_mnist.py\", line 359, in main\n",
      "    trainer.train(train_loader, valid_loader, epochs = args.epochs, save_path = model_path)\n",
      "  File \"/media/daniel/Acer/Users/Public/Documents/Central Documents/Education/MSc AI UvA/Courses/FACT/Project/Github New/FACT/SENN/scripts/SENN/trainers.py\", line 180, in train\n",
      "    self.train_epoch(epoch, train_loader)\n",
      "  File \"/media/daniel/Acer/Users/Public/Documents/Central Documents/Education/MSc AI UvA/Courses/FACT/Project/Github New/FACT/SENN/scripts/SENN/trainers.py\", line 254, in train_epoch\n",
      "    outputs, loss, loss_dict = self.train_batch(inputs, targets)\n",
      "  File \"/media/daniel/Acer/Users/Public/Documents/Central Documents/Education/MSc AI UvA/Courses/FACT/Project/Github New/FACT/SENN/scripts/SENN/trainers.py\", line 628, in train_batch\n",
      "    dF = compute_jacobian(inputs, pred)#  pred.squeeze())  # Squeeze wwas braeking binary case\n",
      "  File \"/media/daniel/Acer/Users/Public/Documents/Central Documents/Education/MSc AI UvA/Courses/FACT/Project/Github New/FACT/SENN/scripts/SENN/trainers.py\", line 96, in compute_jacobian\n",
      "    g = torch.autograd.grad(outputs=fx, inputs = x, grad_outputs = grad, create_graph=True, only_inputs=True)[0] #, retain_graph = True)[0]\n",
      "  File \"/home/daniel/anaconda3/envs/FACT3/lib/python3.6/site-packages/torch/autograd/__init__.py\", line 145, in grad\n",
      "    inputs, allow_unused)\n",
      "KeyboardInterrupt\n"
     ]
    }
   ],
   "source": [
    "# Only run this cell when the MNIST model needs to be trained for 5 concepts.\n",
    "import torch\n",
    "if torch.cuda.is_available():\n",
    "    !python scripts/main_mnist.py --nconcepts 5 --train --cuda\n",
    "else:\n",
    "    !python scripts/main_mnist.py --nconcepts 5 --train "
   ]
  },
  {
   "cell_type": "code",
   "execution_count": null,
   "metadata": {},
   "outputs": [],
   "source": [
    "# Only run this cell when the MNIST model needs to be trained for 22 concepts.\n",
    "import torch\n",
    "if torch.cuda.is_available():\n",
    "    !python scripts/main_mnist.py --nconcepts 22 --train --cuda\n",
    "else:\n",
    "    !python scripts/main_mnist.py --nconcepts 22 --train "
   ]
  },
  {
   "cell_type": "code",
   "execution_count": null,
   "metadata": {},
   "outputs": [],
   "source": [
    "# Only run this cell when the COMPAS model needs to be trained.\n",
    "!python scripts/main_mnist.py --h_type input --train "
   ]
  },
  {
   "cell_type": "markdown",
   "metadata": {},
   "source": [
    "# All plots\n",
    "Running the following three cells will generate faithfulness and dependency plots for every single datapoint in the test datasets. Only run this if you want to see other results than purely the ones we use in our paper. Note that results are saved to your hard disk (make sure to have ~10-20 GBs free), and interrupting the script *will not* delete already generated files."
   ]
  },
  {
   "cell_type": "code",
   "execution_count": null,
   "metadata": {},
   "outputs": [],
   "source": [
    "# Running this script will save a faithfulness plot, a graph of concepts, and a box plot of the correlations\n",
    "# for our method ('alternative'), and for the method of Alvarez-Melis and Jaakkola ('original'),\n",
    "# for the MNIST model with 5 concepts.\n",
    "!python scripts/main_mnist.py --nconcepts 5"
   ]
  },
  {
   "cell_type": "code",
   "execution_count": null,
   "metadata": {},
   "outputs": [],
   "source": [
    "# Running this script will save a faithfulness plot, a graph of concepts, and a box plot of the correlations\n",
    "# for our method ('alternative'), and for the method of Alvarez-Melis and Jaakkola ('original'),\n",
    "# for the COMPAS model.\n",
    "!python scripts/main_mnist.py --nconcepts 22"
   ]
  },
  {
   "cell_type": "code",
   "execution_count": null,
   "metadata": {},
   "outputs": [],
   "source": [
    "# Running this script will save a faithfulness plot, a graph of concepts, and a box plot of the correlations\n",
    "# for our method ('alternative'), and for the method of Alvarez-Melis and Jaakkola ('original'),\n",
    "# for the MNIST model with 22 concepts.\n",
    "\n",
    "!python scripts/main_compas.py --h_type input"
   ]
  },
  {
   "cell_type": "markdown",
   "metadata": {},
   "source": [
    "# Paper figures\n",
    "Run the following cells to generate and show the figures used in the paper and presentation."
   ]
  },
  {
   "cell_type": "code",
   "execution_count": null,
   "metadata": {
    "scrolled": true
   },
   "outputs": [],
   "source": [
    "# Checked\n",
    "# This cell runs all results in the paper for MNIST with 5 concepts, with the exception of the faithfulness box plot. \n",
    "# Note that running this cell takes ~ 20 minutes.\n",
    "\n",
    "from IPython.display import Image\n",
    "\n",
    "!python scripts/main_mnist.py --nconcepts 5 --demo\n",
    "\n",
    "concept_grid = Image(filename='out/mnist/grad3_Hcnn_Thsimple_Cpts5_Reg1e-02_Sp0.0001_LR0.001/concept_grid.png', retina=True)\n",
    "dependency_plots = Image(filename='out/mnist/grad3_Hcnn_Thsimple_Cpts5_Reg1e-02_Sp0.0001_LR0.001/faithfulness0/dependencies/0.png', retina=True)\n",
    "original = Image(filename='out/mnist/grad3_Hcnn_Thsimple_Cpts5_Reg1e-02_Sp0.0001_LR0.001/faithfulness0/_0/original.png', retina=True)\n",
    "alternative = Image(filename='out/mnist/grad3_Hcnn_Thsimple_Cpts5_Reg1e-02_Sp0.0001_LR0.001/faithfulness0/_0/alternative.png', retina=True)\n",
    "digit = Image(filename='out/mnist/grad3_Hcnn_Thsimple_Cpts5_Reg1e-02_Sp0.0001_LR0.001/faithfulness0/dependencies/0digit.png', retina=True)\n",
    "stability_graph = Image(filename='out/mnist/grad3_Hcnn_Thsimple_Cpts5_Reg1e-02_Sp0.0001_LR0.001/stability.png', retina=True)\n",
    "histogramthetaxhx = Image(filename='out/mnist/grad3_Hcnn_Thsimple_Cpts5_Reg1e-02_Sp0.0001_LR0.001/histogramthetaxhx.png', retina=True)\n",
    "histogramthetax = Image(filename='out/mnist/grad3_Hcnn_Thsimple_Cpts5_Reg1e-02_Sp0.0001_LR0.001/histogramthetax.png', retina=True)\n",
    "histogramhx = Image(filename='out/mnist/grad3_Hcnn_Thsimple_Cpts5_Reg1e-02_Sp0.0001_LR0.001/histogramhx.png', retina=True)\n",
    "\n",
    "display(concept_grid, dependency_plots, original, alternative,\n",
    "        digit, stability_graph, histogramthetaxhx, histogramthetax, histogramhx) \n"
   ]
  },
  {
   "cell_type": "code",
   "execution_count": null,
   "metadata": {},
   "outputs": [],
   "source": [
    "# Checked.\n",
    "# Run this cell to generate the faithfulness box plot that is in the paper for MNIST with 5 concepts. Takes about 10 minutes.\n",
    "\n",
    "from IPython.display import Image\n",
    "\n",
    "# This cell gathers all faithfulness-correlation numbers for the MNIST test set, for 5 concepts. \n",
    "# Note that it takes about 5-10 minutes to run\n",
    "!python scripts/main_mnist.py --nconcepts 5 --noplot\n",
    "\n",
    "faithfulness_box_plot = Image(filename='out/mnist/grad3_Hcnn_Thsimple_Cpts5_Reg1e-02_Sp0.0001_LR0.001/faithfulness_box_plot.png', retina=True)\n",
    "display(faithfulness_box_plot)"
   ]
  },
  {
   "cell_type": "code",
   "execution_count": null,
   "metadata": {},
   "outputs": [],
   "source": [
    "# This cell runs all paper results for MNIST with 20 concepts, with the exception of the faithfulness box plot. \n",
    "# Note that running this cell takes ~ 5 minutes.\n",
    "from IPython.display import Image\n",
    "\n",
    "!python scripts/main_mnist.py --nconcepts 22 --demo\n",
    "\n",
    "original = Image(filename='out/mnist/grad3_Hcnn_Thsimple_Cpts22_Reg1e-02_Sp0.0001_LR0.001/faithfulness0/_1/original.png', retina=True)\n",
    "alternative = Image(filename='out/mnist/grad3_Hcnn_Thsimple_Cpts22_Reg1e-02_Sp0.0001_LR0.001/faithfulness0/_1/alternative.png', retina=True)\n",
    "\n",
    "display(original, alternative) \n"
   ]
  },
  {
   "cell_type": "code",
   "execution_count": null,
   "metadata": {
    "scrolled": true
   },
   "outputs": [],
   "source": [
    "# This cell runs all results in the paper for COMPAS, with the exception of the faithfulness box plot. \n",
    "# Note that running this cell takes ~ 2 minutes.\n",
    "from IPython.display import Image\n",
    "\n",
    "!python scripts/main_compas.py --h_type input --demo\n",
    "\n",
    "dependencies = Image(filename='out/compas/unreg_Hinput_Thsimple_Reg1e-02_LR0.001/faithfulness0/_0/dependencies/0.png', retina=True)\n",
    "original = Image(filename='out/compas/unreg_Hinput_Thsimple_Reg1e-02_LR0.001/faithfulness0/_0/original.png', retina=True)\n",
    "alternative = Image(filename='out/compas/unreg_Hinput_Thsimple_Reg1e-02_LR0.001/faithfulness0/_0/alternative.png', retina=True)\n",
    "# histogramthetaxhx = Image(filename='out/compas/unreg_Hinput_Thsimple_Reg1e-02_LR0.001/histogramthetaxhx.png', retina=True)\n",
    "# histogramthetax = Image(filename='out/compas/unreg_Hinput_Thsimple_Reg1e-02_LR0.001/histogramthetax.png', retina=True)\n",
    "# histogramhx = Image(filename='out/compas/unreg_Hinput_Thsimple_Reg1e-02_LR0.001/histogramhx.png', retina=True)\n",
    "\n",
    "display(dependencies, original, alternative, histogramthetaxhx, histogramthetax, histogramhx) "
   ]
  },
  {
   "cell_type": "code",
   "execution_count": null,
   "metadata": {},
   "outputs": [],
   "source": [
    "# This cell generates the faithfulness correlation and stability box plots for the COMPAS dataset.\n",
    "# Note that it takes about 1 minute to run\n",
    "from IPython.display import Image\n",
    "\n",
    "\n",
    "!python scripts/main_compas.py --h_type input --noplot\n",
    "\n",
    "faithfulness_box_plot = Image(filename='out/compas/unreg_Hinput_Thsimple_Reg1e-02_LR0.001/faithfulness_box_plot.png', retina=True)\n",
    "stability_box_plot = Image(filename='out/compas/unreg_Hinput_Thsimple_Reg1e-02_LR0.001/stability.png', retina=True)\n",
    "\n",
    "display(faithfulness_box_plot, stability_box_plot)"
   ]
  }
 ],
 "metadata": {
  "kernelspec": {
   "display_name": "Python 3",
   "language": "python",
   "name": "python3"
  },
  "language_info": {
   "codemirror_mode": {
    "name": "ipython",
    "version": 3
   },
   "file_extension": ".py",
   "mimetype": "text/x-python",
   "name": "python",
   "nbconvert_exporter": "python",
   "pygments_lexer": "ipython3",
   "version": "3.6.10"
  }
 },
 "nbformat": 4,
 "nbformat_minor": 2
}
