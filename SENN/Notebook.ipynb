{
 "cells": [
  {
   "cell_type": "markdown",
   "metadata": {},
   "source": [
    "# Revisiting Robust Interpretability of Self-Explaining Neural Networks\n",
    "In this notebook, all results in the paper \"Revisiting Robust Interpretability of Self-Explaining Neural Networks\" by J. Goedhart, L. Jansen, H. Lim, and D. Nobbe, can be generated. Please read through the functionality of all cells before running."
   ]
  },
  {
   "cell_type": "markdown",
   "metadata": {},
   "source": [
    "# Training\n",
    "The following three cells should be run for training of the models. Pre-trained models are included in the Github repository, so it is not necessary to train the models to generate the figures.\n",
    "Note that training the models will reinitialize the weights, therefore slightly changing the figures generated."
   ]
  },
  {
   "cell_type": "code",
   "execution_count": null,
   "metadata": {},
   "outputs": [],
   "source": [
    "# Only run this cell when the MNIST model needs to be trained for 5 concepts.\n",
    "import torch\n",
    "if torch.cuda.is_available():\n",
    "    !python scripts/main_mnist.py --nconcepts 5 --train --cuda\n",
    "else:\n",
    "    !python scripts/main_mnist.py --nconcepts 5 --train "
   ]
  },
  {
   "cell_type": "code",
   "execution_count": null,
   "metadata": {},
   "outputs": [],
   "source": [
    "# Only run this cell when the MNIST model needs to be trained for 22 concepts.\n",
    "import torch\n",
    "if torch.cuda.is_available():\n",
    "    !python scripts/main_mnist.py --nconcepts 22 --train --cuda\n",
    "else:\n",
    "    !python scripts/main_mnist.py --nconcepts 22 --train "
   ]
  },
  {
   "cell_type": "code",
   "execution_count": null,
   "metadata": {},
   "outputs": [],
   "source": [
    "# Only run this cell when the COMPAS model needs to be trained.\n",
    "!python scripts/main_mnist.py --h_type input --train "
   ]
  },
  {
   "cell_type": "markdown",
   "metadata": {},
   "source": [
    "# All plots\n",
    "Running the following three cells will generate faithfulness and dependency plots for every single datapoint in the test datasets. Only run this if you want to see other results than purely the ones we use in our paper. Note that results are saved to your hard disk (make sure to have ~10-20 GBs free), and interrupting the script *will not* delete already generated files."
   ]
  },
  {
   "cell_type": "code",
   "execution_count": null,
   "metadata": {},
   "outputs": [],
   "source": [
    "# Running this script will save a faithfulness plot, a graph of concepts, and a box plot of the correlations\n",
    "# for our method ('alternative'), and for the method of Alvarez-Melis and Jaakkola ('original'),\n",
    "# for the MNIST model with 5 concepts.\n",
    "!python scripts/main_mnist.py --nconcepts 5"
   ]
  },
  {
   "cell_type": "code",
   "execution_count": null,
   "metadata": {},
   "outputs": [],
   "source": [
    "# Running this script will save a faithfulness plot, a graph of concepts, and a box plot of the correlations\n",
    "# for our method ('alternative'), and for the method of Alvarez-Melis and Jaakkola ('original'),\n",
    "# for the COMPAS model.\n",
    "!python scripts/main_mnist.py --nconcepts 22"
   ]
  },
  {
   "cell_type": "code",
   "execution_count": null,
   "metadata": {},
   "outputs": [],
   "source": [
    "# Running this script will save a faithfulness plot, a graph of concepts, and a box plot of the correlations\n",
    "# for our method ('alternative'), and for the method of Alvarez-Melis and Jaakkola ('original'),\n",
    "# for the MNIST model with 22 concepts.\n",
    "\n",
    "!python scripts/main_compas.py --h_type input"
   ]
  },
  {
   "cell_type": "markdown",
   "metadata": {},
   "source": [
    "# Paper figures\n",
    "Run the following cells to generate and show the figures used in the paper and presentation."
   ]
  },
  {
   "cell_type": "code",
   "execution_count": null,
   "metadata": {
    "scrolled": true
   },
   "outputs": [],
   "source": [
    "# Checked\n",
    "# This cell runs all results in the paper for MNIST with 5 concepts, with the exception of the faithfulness box plot. \n",
    "# Note that running this cell takes ~ 20 minutes.\n",
    "\n",
    "from IPython.display import Image\n",
    "\n",
    "!python scripts/main_mnist.py --nconcepts 5 --demo\n",
    "\n",
    "concept_grid = Image(filename='out/mnist/grad3_Hcnn_Thsimple_Cpts5_Reg1e-02_Sp0.0001_LR0.001/concept_grid.png', retina=True)\n",
    "dependency_plots = Image(filename='out/mnist/grad3_Hcnn_Thsimple_Cpts5_Reg1e-02_Sp0.0001_LR0.001/faithfulness0/dependencies/0.png', retina=True)\n",
    "original = Image(filename='out/mnist/grad3_Hcnn_Thsimple_Cpts5_Reg1e-02_Sp0.0001_LR0.001/faithfulness0/_0/original.png', retina=True)\n",
    "alternative = Image(filename='out/mnist/grad3_Hcnn_Thsimple_Cpts5_Reg1e-02_Sp0.0001_LR0.001/faithfulness0/_0/alternative.png', retina=True)\n",
    "digit = Image(filename='out/mnist/grad3_Hcnn_Thsimple_Cpts5_Reg1e-02_Sp0.0001_LR0.001/faithfulness0/dependencies/0digit.png', retina=True)\n",
    "stability_graph = Image(filename='out/mnist/grad3_Hcnn_Thsimple_Cpts5_Reg1e-02_Sp0.0001_LR0.001/stability.png', retina=True)\n",
    "histogramthetaxhx = Image(filename='out/mnist/grad3_Hcnn_Thsimple_Cpts5_Reg1e-02_Sp0.0001_LR0.001/histogramthetaxhx.png', retina=True)\n",
    "histogramthetax = Image(filename='out/mnist/grad3_Hcnn_Thsimple_Cpts5_Reg1e-02_Sp0.0001_LR0.001/histogramthetax.png', retina=True)\n",
    "histogramhx = Image(filename='out/mnist/grad3_Hcnn_Thsimple_Cpts5_Reg1e-02_Sp0.0001_LR0.001/histogramhx.png', retina=True)\n",
    "\n",
    "display(concept_grid, dependency_plots, original, alternative,\n",
    "        digit, stability_graph, histogramthetaxhx, histogramthetax, histogramhx) \n"
   ]
  },
  {
   "cell_type": "code",
   "execution_count": null,
   "metadata": {},
   "outputs": [],
   "source": [
    "# Checked.\n",
    "# Run this cell to generate the faithfulness box plot that is in the paper for MNIST with 5 concepts. Takes about 10 minutes.\n",
    "\n",
    "from IPython.display import Image\n",
    "\n",
    "# This cell gathers all faithfulness-correlation numbers for the MNIST test set, for 5 concepts. \n",
    "# Note that it takes about 5-10 minutes to run\n",
    "!python scripts/main_mnist.py --nconcepts 5 --noplot\n",
    "\n",
    "faithfulness_box_plot = Image(filename='out/mnist/grad3_Hcnn_Thsimple_Cpts5_Reg1e-02_Sp0.0001_LR0.001/faithfulness_box_plot.png', retina=True)\n",
    "display(faithfulness_box_plot)"
   ]
  },
  {
   "cell_type": "code",
   "execution_count": null,
   "metadata": {},
   "outputs": [],
   "source": [
    "# This cell runs all paper results for MNIST with 20 concepts, with the exception of the faithfulness box plot. \n",
    "# Note that running this cell takes ~ 5 minutes.\n",
    "from IPython.display import Image\n",
    "\n",
    "!python scripts/main_mnist.py --nconcepts 22 --demo\n",
    "\n",
    "original = Image(filename='out/mnist/grad3_Hcnn_Thsimple_Cpts22_Reg1e-02_Sp0.0001_LR0.001/faithfulness0/_1/original.png', retina=True)\n",
    "alternative = Image(filename='out/mnist/grad3_Hcnn_Thsimple_Cpts22_Reg1e-02_Sp0.0001_LR0.001/faithfulness0/_1/alternative.png', retina=True)\n",
    "\n",
    "display(original, alternative) \n"
   ]
  },
  {
   "cell_type": "code",
   "execution_count": null,
   "metadata": {
    "scrolled": true
   },
   "outputs": [],
   "source": [
    "# This cell runs all results in the paper for COMPAS, with the exception of the faithfulness box plot. \n",
    "# Note that running this cell takes ~ 2 minutes.\n",
    "from IPython.display import Image\n",
    "\n",
    "!python scripts/main_compas.py --h_type input --demo\n",
    "\n",
    "dependencies = Image(filename='out/compas/unreg_Hinput_Thsimple_Reg1e-02_LR0.001/faithfulness0/_0/dependencies/0.png', retina=True)\n",
    "original = Image(filename='out/compas/unreg_Hinput_Thsimple_Reg1e-02_LR0.001/faithfulness0/_0/original.png', retina=True)\n",
    "alternative = Image(filename='out/compas/unreg_Hinput_Thsimple_Reg1e-02_LR0.001/faithfulness0/_0/alternative.png', retina=True)\n",
    "# histogramthetaxhx = Image(filename='out/compas/unreg_Hinput_Thsimple_Reg1e-02_LR0.001/histogramthetaxhx.png', retina=True)\n",
    "# histogramthetax = Image(filename='out/compas/unreg_Hinput_Thsimple_Reg1e-02_LR0.001/histogramthetax.png', retina=True)\n",
    "# histogramhx = Image(filename='out/compas/unreg_Hinput_Thsimple_Reg1e-02_LR0.001/histogramhx.png', retina=True)\n",
    "\n",
    "display(dependencies, original, alternative, histogramthetaxhx, histogramthetax, histogramhx) "
   ]
  },
  {
   "cell_type": "code",
   "execution_count": null,
   "metadata": {},
   "outputs": [],
   "source": [
    "# This cell generates the faithfulness correlation and stability box plots for the COMPAS dataset.\n",
    "# Note that it takes about 1 minute to run\n",
    "from IPython.display import Image\n",
    "\n",
    "\n",
    "!python scripts/main_compas.py --h_type input --noplot\n",
    "\n",
    "faithfulness_box_plot = Image(filename='out/compas/unreg_Hinput_Thsimple_Reg1e-02_LR0.001/faithfulness_box_plot.png', retina=True)\n",
    "stability_box_plot = Image(filename='out/compas/unreg_Hinput_Thsimple_Reg1e-02_LR0.001/stability.png', retina=True)\n",
    "\n",
    "display(faithfulness_box_plot, stability_box_plot)"
   ]
  }
 ],
 "metadata": {
  "kernelspec": {
   "display_name": "Python 3",
   "language": "python",
   "name": "python3"
  },
  "language_info": {
   "codemirror_mode": {
    "name": "ipython",
    "version": 3
   },
   "file_extension": ".py",
   "mimetype": "text/x-python",
   "name": "python",
   "nbconvert_exporter": "python",
   "pygments_lexer": "ipython3",
   "version": "3.6.10"
  }
 },
 "nbformat": 4,
 "nbformat_minor": 2
}
